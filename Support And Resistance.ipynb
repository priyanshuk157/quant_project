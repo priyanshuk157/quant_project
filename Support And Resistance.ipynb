{
  "nbformat": 4,
  "nbformat_minor": 0,
  "metadata": {
    "colab": {
      "provenance": [],
      "authorship_tag": "ABX9TyM3NfNNKU0JWGu6b0UYt/7+",
      "include_colab_link": true
    },
    "kernelspec": {
      "name": "python3",
      "display_name": "Python 3"
    },
    "language_info": {
      "name": "python"
    }
  },
  "cells": [
    {
      "cell_type": "markdown",
      "metadata": {
        "id": "view-in-github",
        "colab_type": "text"
      },
      "source": [
        "<a href=\"https://colab.research.google.com/github/AJAYrocks13/-IITISoc-22-AFB5-Paper-trading-stock-simulator/blob/main/High_and_low_levels.ipynb\" target=\"_parent\"><img src=\"https://colab.research.google.com/assets/colab-badge.svg\" alt=\"Open In Colab\"/></a>"
      ]
    },
    {
      "cell_type": "code",
      "execution_count": 2,
      "metadata": {
        "colab": {
          "base_uri": "https://localhost:8080/"
        },
        "id": "hipgh8RReZtf",
        "outputId": "6d390408-7095-4d86-8705-576789ee1622"
      },
      "outputs": [
        {
          "output_type": "stream",
          "name": "stdout",
          "text": [
            "Looking in indexes: https://pypi.org/simple, https://us-python.pkg.dev/colab-wheels/public/simple/\n",
            "Requirement already satisfied: yfinance in /usr/local/lib/python3.8/dist-packages (0.2.7)\n",
            "Requirement already satisfied: lxml>=4.9.1 in /usr/local/lib/python3.8/dist-packages (from yfinance) (4.9.2)\n",
            "Requirement already satisfied: html5lib>=1.1 in /usr/local/lib/python3.8/dist-packages (from yfinance) (1.1)\n",
            "Requirement already satisfied: appdirs>=1.4.4 in /usr/local/lib/python3.8/dist-packages (from yfinance) (1.4.4)\n",
            "Requirement already satisfied: pytz>=2022.5 in /usr/local/lib/python3.8/dist-packages (from yfinance) (2022.7)\n",
            "Requirement already satisfied: cryptography>=3.3.2 in /usr/local/lib/python3.8/dist-packages (from yfinance) (39.0.0)\n",
            "Requirement already satisfied: requests>=2.26 in /usr/local/lib/python3.8/dist-packages (from yfinance) (2.28.2)\n",
            "Requirement already satisfied: frozendict>=2.3.4 in /usr/local/lib/python3.8/dist-packages (from yfinance) (2.3.4)\n",
            "Requirement already satisfied: beautifulsoup4>=4.11.1 in /usr/local/lib/python3.8/dist-packages (from yfinance) (4.11.1)\n",
            "Requirement already satisfied: pandas>=1.3.0 in /usr/local/lib/python3.8/dist-packages (from yfinance) (1.3.5)\n",
            "Requirement already satisfied: numpy>=1.16.5 in /usr/local/lib/python3.8/dist-packages (from yfinance) (1.21.6)\n",
            "Requirement already satisfied: multitasking>=0.0.7 in /usr/local/lib/python3.8/dist-packages (from yfinance) (0.0.11)\n",
            "Requirement already satisfied: soupsieve>1.2 in /usr/local/lib/python3.8/dist-packages (from beautifulsoup4>=4.11.1->yfinance) (2.3.2.post1)\n",
            "Requirement already satisfied: cffi>=1.12 in /usr/local/lib/python3.8/dist-packages (from cryptography>=3.3.2->yfinance) (1.15.1)\n",
            "Requirement already satisfied: webencodings in /usr/local/lib/python3.8/dist-packages (from html5lib>=1.1->yfinance) (0.5.1)\n",
            "Requirement already satisfied: six>=1.9 in /usr/local/lib/python3.8/dist-packages (from html5lib>=1.1->yfinance) (1.15.0)\n",
            "Requirement already satisfied: python-dateutil>=2.7.3 in /usr/local/lib/python3.8/dist-packages (from pandas>=1.3.0->yfinance) (2.8.2)\n",
            "Requirement already satisfied: certifi>=2017.4.17 in /usr/local/lib/python3.8/dist-packages (from requests>=2.26->yfinance) (2022.12.7)\n",
            "Requirement already satisfied: idna<4,>=2.5 in /usr/local/lib/python3.8/dist-packages (from requests>=2.26->yfinance) (2.10)\n",
            "Requirement already satisfied: urllib3<1.27,>=1.21.1 in /usr/local/lib/python3.8/dist-packages (from requests>=2.26->yfinance) (1.24.3)\n",
            "Requirement already satisfied: charset-normalizer<4,>=2 in /usr/local/lib/python3.8/dist-packages (from requests>=2.26->yfinance) (2.1.1)\n",
            "Requirement already satisfied: pycparser in /usr/local/lib/python3.8/dist-packages (from cffi>=1.12->cryptography>=3.3.2->yfinance) (2.21)\n"
          ]
        }
      ],
      "source": [
        "!pip install yfinance"
      ]
    },
    {
      "cell_type": "code",
      "source": [
        "!pip install mpl_finance"
      ],
      "metadata": {
        "colab": {
          "base_uri": "https://localhost:8080/"
        },
        "id": "S8QxxHKZezSp",
        "outputId": "bedd4f0e-9c3b-435d-937f-42e76b2e0232"
      },
      "execution_count": 3,
      "outputs": [
        {
          "output_type": "stream",
          "name": "stdout",
          "text": [
            "Looking in indexes: https://pypi.org/simple, https://us-python.pkg.dev/colab-wheels/public/simple/\n",
            "Collecting mpl_finance\n",
            "  Downloading mpl_finance-0.10.1-py3-none-any.whl (8.4 kB)\n",
            "Requirement already satisfied: matplotlib in /usr/local/lib/python3.8/dist-packages (from mpl_finance) (3.2.2)\n",
            "Requirement already satisfied: pyparsing!=2.0.4,!=2.1.2,!=2.1.6,>=2.0.1 in /usr/local/lib/python3.8/dist-packages (from matplotlib->mpl_finance) (3.0.9)\n",
            "Requirement already satisfied: numpy>=1.11 in /usr/local/lib/python3.8/dist-packages (from matplotlib->mpl_finance) (1.21.6)\n",
            "Requirement already satisfied: cycler>=0.10 in /usr/local/lib/python3.8/dist-packages (from matplotlib->mpl_finance) (0.11.0)\n",
            "Requirement already satisfied: kiwisolver>=1.0.1 in /usr/local/lib/python3.8/dist-packages (from matplotlib->mpl_finance) (1.4.4)\n",
            "Requirement already satisfied: python-dateutil>=2.1 in /usr/local/lib/python3.8/dist-packages (from matplotlib->mpl_finance) (2.8.2)\n",
            "Requirement already satisfied: six>=1.5 in /usr/local/lib/python3.8/dist-packages (from python-dateutil>=2.1->matplotlib->mpl_finance) (1.15.0)\n",
            "Installing collected packages: mpl_finance\n",
            "Successfully installed mpl_finance-0.10.1\n"
          ]
        }
      ]
    },
    {
      "cell_type": "code",
      "source": [
        "import pandas as pd\n",
        "import numpy as np\n",
        "import yfinance\n",
        "from mpl_finance import candlestick_ohlc\n",
        "import matplotlib.dates as mpl_dates\n",
        "import matplotlib.pyplot as plt\n",
        "\n",
        "plt.rcParams['figure.figsize'] = [12, 7]\n",
        "\n",
        "plt.rc('font', size=14) "
      ],
      "metadata": {
        "id": "ynQWNzpNe2yo"
      },
      "execution_count": 6,
      "outputs": []
    },
    {
      "cell_type": "code",
      "source": [
        "name = 'SPY'\n",
        "ticker = yfinance.Ticker(name)\n",
        "df = ticker.history(interval=\"1d\",start=\"2020-03-15\",end=\"2020-07-15\")"
      ],
      "metadata": {
        "id": "mSMY6qaoe6yh"
      },
      "execution_count": 7,
      "outputs": []
    },
    {
      "cell_type": "code",
      "source": [
        "df['Date'] = pd.to_datetime(df.index)\n",
        "df['Date'] = df['Date'].apply(mpl_dates.date2num)\n",
        "\n",
        "df = df.loc[:,['Date', 'Open', 'High', 'Low', 'Close']]"
      ],
      "metadata": {
        "id": "5gINSK8Ee-oH"
      },
      "execution_count": 8,
      "outputs": []
    },
    {
      "cell_type": "code",
      "source": [
        "df"
      ],
      "metadata": {
        "colab": {
          "base_uri": "https://localhost:8080/",
          "height": 455
        },
        "id": "Yt7wieeQfAlF",
        "outputId": "099ba6e2-188f-4fe5-8358-da502629a512"
      },
      "execution_count": 9,
      "outputs": [
        {
          "output_type": "execute_result",
          "data": {
            "text/plain": [
              "                                    Date        Open        High         Low  \\\n",
              "Date                                                                           \n",
              "2020-03-16 00:00:00-04:00  737500.166667  229.914178  244.899878  226.272622   \n",
              "2020-03-17 00:00:00-04:00  737501.166667  233.593879  244.204002  225.996181   \n",
              "2020-03-18 00:00:00-04:00  737502.166667  225.214459  236.768313  217.368897   \n",
              "2020-03-19 00:00:00-04:00  737503.166667  228.074313  235.824555  221.372695   \n",
              "2020-03-20 00:00:00-04:00  737504.166667  232.560634  234.420892  219.107348   \n",
              "...                                  ...         ...         ...         ...   \n",
              "2020-07-08 00:00:00-04:00  737614.166667  303.005299  304.632964  301.165777   \n",
              "2020-07-09 00:00:00-04:00  737615.166667  305.153035  305.403454  299.220249   \n",
              "2020-07-10 00:00:00-04:00  737616.166667  302.716354  306.154677  301.223539   \n",
              "2020-07-13 00:00:00-04:00  737619.166667  308.321719  310.806540  302.543034   \n",
              "2020-07-14 00:00:00-04:00  737620.166667  301.743616  307.965354  300.491579   \n",
              "\n",
              "                                Close  \n",
              "Date                                   \n",
              "2020-03-16 00:00:00-04:00  228.646317  \n",
              "2020-03-17 00:00:00-04:00  240.991409  \n",
              "2020-03-18 00:00:00-04:00  228.789291  \n",
              "2020-03-19 00:00:00-04:00  229.275452  \n",
              "2020-03-20 00:00:00-04:00  219.395020  \n",
              "...                               ...  \n",
              "2020-07-08 00:00:00-04:00  304.517395  \n",
              "2020-07-09 00:00:00-04:00  302.783783  \n",
              "2020-07-10 00:00:00-04:00  305.875366  \n",
              "2020-07-13 00:00:00-04:00  303.226837  \n",
              "2020-07-14 00:00:00-04:00  307.156342  \n",
              "\n",
              "[84 rows x 5 columns]"
            ],
            "text/html": [
              "\n",
              "  <div id=\"df-7e7c12c9-5c8c-4b12-9b00-34b8acedd748\">\n",
              "    <div class=\"colab-df-container\">\n",
              "      <div>\n",
              "<style scoped>\n",
              "    .dataframe tbody tr th:only-of-type {\n",
              "        vertical-align: middle;\n",
              "    }\n",
              "\n",
              "    .dataframe tbody tr th {\n",
              "        vertical-align: top;\n",
              "    }\n",
              "\n",
              "    .dataframe thead th {\n",
              "        text-align: right;\n",
              "    }\n",
              "</style>\n",
              "<table border=\"1\" class=\"dataframe\">\n",
              "  <thead>\n",
              "    <tr style=\"text-align: right;\">\n",
              "      <th></th>\n",
              "      <th>Date</th>\n",
              "      <th>Open</th>\n",
              "      <th>High</th>\n",
              "      <th>Low</th>\n",
              "      <th>Close</th>\n",
              "    </tr>\n",
              "    <tr>\n",
              "      <th>Date</th>\n",
              "      <th></th>\n",
              "      <th></th>\n",
              "      <th></th>\n",
              "      <th></th>\n",
              "      <th></th>\n",
              "    </tr>\n",
              "  </thead>\n",
              "  <tbody>\n",
              "    <tr>\n",
              "      <th>2020-03-16 00:00:00-04:00</th>\n",
              "      <td>737500.166667</td>\n",
              "      <td>229.914178</td>\n",
              "      <td>244.899878</td>\n",
              "      <td>226.272622</td>\n",
              "      <td>228.646317</td>\n",
              "    </tr>\n",
              "    <tr>\n",
              "      <th>2020-03-17 00:00:00-04:00</th>\n",
              "      <td>737501.166667</td>\n",
              "      <td>233.593879</td>\n",
              "      <td>244.204002</td>\n",
              "      <td>225.996181</td>\n",
              "      <td>240.991409</td>\n",
              "    </tr>\n",
              "    <tr>\n",
              "      <th>2020-03-18 00:00:00-04:00</th>\n",
              "      <td>737502.166667</td>\n",
              "      <td>225.214459</td>\n",
              "      <td>236.768313</td>\n",
              "      <td>217.368897</td>\n",
              "      <td>228.789291</td>\n",
              "    </tr>\n",
              "    <tr>\n",
              "      <th>2020-03-19 00:00:00-04:00</th>\n",
              "      <td>737503.166667</td>\n",
              "      <td>228.074313</td>\n",
              "      <td>235.824555</td>\n",
              "      <td>221.372695</td>\n",
              "      <td>229.275452</td>\n",
              "    </tr>\n",
              "    <tr>\n",
              "      <th>2020-03-20 00:00:00-04:00</th>\n",
              "      <td>737504.166667</td>\n",
              "      <td>232.560634</td>\n",
              "      <td>234.420892</td>\n",
              "      <td>219.107348</td>\n",
              "      <td>219.395020</td>\n",
              "    </tr>\n",
              "    <tr>\n",
              "      <th>...</th>\n",
              "      <td>...</td>\n",
              "      <td>...</td>\n",
              "      <td>...</td>\n",
              "      <td>...</td>\n",
              "      <td>...</td>\n",
              "    </tr>\n",
              "    <tr>\n",
              "      <th>2020-07-08 00:00:00-04:00</th>\n",
              "      <td>737614.166667</td>\n",
              "      <td>303.005299</td>\n",
              "      <td>304.632964</td>\n",
              "      <td>301.165777</td>\n",
              "      <td>304.517395</td>\n",
              "    </tr>\n",
              "    <tr>\n",
              "      <th>2020-07-09 00:00:00-04:00</th>\n",
              "      <td>737615.166667</td>\n",
              "      <td>305.153035</td>\n",
              "      <td>305.403454</td>\n",
              "      <td>299.220249</td>\n",
              "      <td>302.783783</td>\n",
              "    </tr>\n",
              "    <tr>\n",
              "      <th>2020-07-10 00:00:00-04:00</th>\n",
              "      <td>737616.166667</td>\n",
              "      <td>302.716354</td>\n",
              "      <td>306.154677</td>\n",
              "      <td>301.223539</td>\n",
              "      <td>305.875366</td>\n",
              "    </tr>\n",
              "    <tr>\n",
              "      <th>2020-07-13 00:00:00-04:00</th>\n",
              "      <td>737619.166667</td>\n",
              "      <td>308.321719</td>\n",
              "      <td>310.806540</td>\n",
              "      <td>302.543034</td>\n",
              "      <td>303.226837</td>\n",
              "    </tr>\n",
              "    <tr>\n",
              "      <th>2020-07-14 00:00:00-04:00</th>\n",
              "      <td>737620.166667</td>\n",
              "      <td>301.743616</td>\n",
              "      <td>307.965354</td>\n",
              "      <td>300.491579</td>\n",
              "      <td>307.156342</td>\n",
              "    </tr>\n",
              "  </tbody>\n",
              "</table>\n",
              "<p>84 rows × 5 columns</p>\n",
              "</div>\n",
              "      <button class=\"colab-df-convert\" onclick=\"convertToInteractive('df-7e7c12c9-5c8c-4b12-9b00-34b8acedd748')\"\n",
              "              title=\"Convert this dataframe to an interactive table.\"\n",
              "              style=\"display:none;\">\n",
              "        \n",
              "  <svg xmlns=\"http://www.w3.org/2000/svg\" height=\"24px\"viewBox=\"0 0 24 24\"\n",
              "       width=\"24px\">\n",
              "    <path d=\"M0 0h24v24H0V0z\" fill=\"none\"/>\n",
              "    <path d=\"M18.56 5.44l.94 2.06.94-2.06 2.06-.94-2.06-.94-.94-2.06-.94 2.06-2.06.94zm-11 1L8.5 8.5l.94-2.06 2.06-.94-2.06-.94L8.5 2.5l-.94 2.06-2.06.94zm10 10l.94 2.06.94-2.06 2.06-.94-2.06-.94-.94-2.06-.94 2.06-2.06.94z\"/><path d=\"M17.41 7.96l-1.37-1.37c-.4-.4-.92-.59-1.43-.59-.52 0-1.04.2-1.43.59L10.3 9.45l-7.72 7.72c-.78.78-.78 2.05 0 2.83L4 21.41c.39.39.9.59 1.41.59.51 0 1.02-.2 1.41-.59l7.78-7.78 2.81-2.81c.8-.78.8-2.07 0-2.86zM5.41 20L4 18.59l7.72-7.72 1.47 1.35L5.41 20z\"/>\n",
              "  </svg>\n",
              "      </button>\n",
              "      \n",
              "  <style>\n",
              "    .colab-df-container {\n",
              "      display:flex;\n",
              "      flex-wrap:wrap;\n",
              "      gap: 12px;\n",
              "    }\n",
              "\n",
              "    .colab-df-convert {\n",
              "      background-color: #E8F0FE;\n",
              "      border: none;\n",
              "      border-radius: 50%;\n",
              "      cursor: pointer;\n",
              "      display: none;\n",
              "      fill: #1967D2;\n",
              "      height: 32px;\n",
              "      padding: 0 0 0 0;\n",
              "      width: 32px;\n",
              "    }\n",
              "\n",
              "    .colab-df-convert:hover {\n",
              "      background-color: #E2EBFA;\n",
              "      box-shadow: 0px 1px 2px rgba(60, 64, 67, 0.3), 0px 1px 3px 1px rgba(60, 64, 67, 0.15);\n",
              "      fill: #174EA6;\n",
              "    }\n",
              "\n",
              "    [theme=dark] .colab-df-convert {\n",
              "      background-color: #3B4455;\n",
              "      fill: #D2E3FC;\n",
              "    }\n",
              "\n",
              "    [theme=dark] .colab-df-convert:hover {\n",
              "      background-color: #434B5C;\n",
              "      box-shadow: 0px 1px 3px 1px rgba(0, 0, 0, 0.15);\n",
              "      filter: drop-shadow(0px 1px 2px rgba(0, 0, 0, 0.3));\n",
              "      fill: #FFFFFF;\n",
              "    }\n",
              "  </style>\n",
              "\n",
              "      <script>\n",
              "        const buttonEl =\n",
              "          document.querySelector('#df-7e7c12c9-5c8c-4b12-9b00-34b8acedd748 button.colab-df-convert');\n",
              "        buttonEl.style.display =\n",
              "          google.colab.kernel.accessAllowed ? 'block' : 'none';\n",
              "\n",
              "        async function convertToInteractive(key) {\n",
              "          const element = document.querySelector('#df-7e7c12c9-5c8c-4b12-9b00-34b8acedd748');\n",
              "          const dataTable =\n",
              "            await google.colab.kernel.invokeFunction('convertToInteractive',\n",
              "                                                     [key], {});\n",
              "          if (!dataTable) return;\n",
              "\n",
              "          const docLinkHtml = 'Like what you see? Visit the ' +\n",
              "            '<a target=\"_blank\" href=https://colab.research.google.com/notebooks/data_table.ipynb>data table notebook</a>'\n",
              "            + ' to learn more about interactive tables.';\n",
              "          element.innerHTML = '';\n",
              "          dataTable['output_type'] = 'display_data';\n",
              "          await google.colab.output.renderOutput(dataTable, element);\n",
              "          const docLink = document.createElement('div');\n",
              "          docLink.innerHTML = docLinkHtml;\n",
              "          element.appendChild(docLink);\n",
              "        }\n",
              "      </script>\n",
              "    </div>\n",
              "  </div>\n",
              "  "
            ]
          },
          "metadata": {},
          "execution_count": 9
        }
      ]
    },
    {
      "cell_type": "code",
      "source": [
        "def isSupport(df,i):\n",
        "  support = df['Low'][i] < df['Low'][i-1]  and df['Low'][i] < df['Low'][i+1] \\\n",
        "  and df['Low'][i+1] < df['Low'][i+2] and df['Low'][i-1] < df['Low'][i-2]\n",
        "\n",
        "  return support\n",
        "\n",
        "def isResistance(df,i):\n",
        "  resistance = df['High'][i] > df['High'][i-1]  and df['High'][i] > df['High'][i+1] \\\n",
        "  and df['High'][i+1] > df['High'][i+2] and df['High'][i-1] > df['High'][i-2] \n",
        "\n",
        "  return resistance"
      ],
      "metadata": {
        "id": "G7Gv7TdSfMlU"
      },
      "execution_count": 10,
      "outputs": []
    },
    {
      "cell_type": "code",
      "source": [
        "levels = []\n",
        "for i in range(2,df.shape[0]-2):\n",
        "  if isSupport(df,i):\n",
        "    levels.append((i,df['Low'][i]))\n",
        "  elif isResistance(df,i):\n",
        "    levels.append((i,df['High'][i]))"
      ],
      "metadata": {
        "id": "XI32UsUMfO_H"
      },
      "execution_count": 11,
      "outputs": []
    },
    {
      "cell_type": "code",
      "source": [
        "def plot_all():\n",
        "  fig, ax = plt.subplots()\n",
        "\n",
        "  candlestick_ohlc(ax,df.values,width=0.6, \\\n",
        "                   colorup='green', colordown='red', alpha=0.8)\n",
        "\n",
        "  date_format = mpl_dates.DateFormatter('%d %b %Y')\n",
        "  ax.xaxis.set_major_formatter(date_format)\n",
        "  fig.autofmt_xdate()\n",
        "\n",
        "  fig.tight_layout()\n",
        "\n",
        "  for level in levels:\n",
        "    plt.hlines(level[1],xmin=df['Date'][level[0]],\\\n",
        "               xmax=max(df['Date']),colors='blue')\n",
        "  fig.show()"
      ],
      "metadata": {
        "id": "I4dAJJSLfRkf"
      },
      "execution_count": 12,
      "outputs": []
    },
    {
      "cell_type": "code",
      "source": [
        "plot_all()"
      ],
      "metadata": {
        "colab": {
          "base_uri": "https://localhost:8080/",
          "height": 505
        },
        "id": "OYivKQzSfWsJ",
        "outputId": "89a12c97-cfa0-4c4a-c61c-c455c6a93dc6"
      },
      "execution_count": 13,
      "outputs": [
        {
          "output_type": "display_data",
          "data": {
            "text/plain": [
              "<Figure size 864x504 with 1 Axes>"
            ],
            "image/png": "[encoded data removed]"
          },
          "metadata": {
            "needs_background": "light"
          }
        }
      ]
    },
    {
      "cell_type": "code",
      "source": [
        "s =  np.mean(df['High'] - df['Low'])"
      ],
      "metadata": {
        "id": "kARFPkEHfYsj"
      },
      "execution_count": 14,
      "outputs": []
    },
    {
      "cell_type": "code",
      "source": [
        "def isFarFromLevel(l):\n",
        "  return np.sum([abs(l-x) < s  for x in levels]) == 0"
      ],
      "metadata": {
        "id": "txIBKwynfb6e"
      },
      "execution_count": 15,
      "outputs": []
    },
    {
      "cell_type": "code",
      "source": [
        "levels = []\n",
        "for i in range(2,df.shape[0]-2):\n",
        "  if isSupport(df,i):\n",
        "    l = df['Low'][i]\n",
        "\n",
        "    if isFarFromLevel(l):\n",
        "      levels.append((i,l))\n",
        "\n",
        "  elif isResistance(df,i):\n",
        "    l = df['High'][i]\n",
        "\n",
        "    if isFarFromLevel(l):\n",
        "      levels.append((i,l))"
      ],
      "metadata": {
        "id": "S392PELHfeUD"
      },
      "execution_count": 16,
      "outputs": []
    },
    {
      "cell_type": "code",
      "source": [
        "levels"
      ],
      "metadata": {
        "colab": {
          "base_uri": "https://localhost:8080/"
        },
        "id": "RPVtr7HxffKt",
        "outputId": "5c903de9-d0b9-453d-f623-2fd04165c127"
      },
      "execution_count": 17,
      "outputs": [
        {
          "output_type": "execute_result",
          "data": {
            "text/plain": [
              "[(5, 209.2882900483482),\n",
              " (11, 252.50563153411173),\n",
              " (25, 260.838467733065),\n",
              " (31, 282.75874544816804),\n",
              " (58, 310.1160019386741),\n",
              " (67, 295.22333782630875)]"
            ]
          },
          "metadata": {},
          "execution_count": 17
        }
      ]
    },
    {
      "cell_type": "code",
      "source": [
        "plot_all()"
      ],
      "metadata": {
        "colab": {
          "base_uri": "https://localhost:8080/",
          "height": 505
        },
        "id": "AV-QkPVofhIN",
        "outputId": "239613ec-b385-4a00-d732-d200d29a8db6"
      },
      "execution_count": 18,
      "outputs": [
        {
          "output_type": "display_data",
          "data": {
            "text/plain": [
              "<Figure size 864x504 with 1 Axes>"
            ],
            "image/png": "[encoded data removed]"
          },
          "metadata": {
            "needs_background": "light"
          }
        }
      ]
    }
  ]
}